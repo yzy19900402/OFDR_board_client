{
 "cells": [
  {
   "cell_type": "code",
   "execution_count": 2,
   "metadata": {},
   "outputs": [],
   "source": [
    "import numpy as np\n",
    "import uDMA\n",
    "import Controller\n",
    "from pynq import xlnk\n",
    "from pynq import overlay\n",
    "import socket\n",
    "import sys\n",
    "import math\n",
    "import time"
   ]
  },
  {
   "cell_type": "code",
   "execution_count": 379,
   "metadata": {},
   "outputs": [],
   "source": [
    "#Control gpio address\n",
    "TriBRAM_Control_Addr              = 0x43C10000\n",
    "CLK_Control_Addr                  = 0x43C30000\n",
    "TDC_Control_Addr                  = 0x43C40000\n",
    "DINT_Control_Addr                 = 0x43C20000\n",
    "UDMA_Control_Addr                 = 0x43C50000\n",
    "CMP_Delay_Addr                    = 0x43C00000\n",
    "Data_length                       = 65536#= 32768#the data length for u64, 8bytes\n",
    "UDP_MAX                           = 32768#the max byte length for UDP\n",
    "UDP_IP                            = \"192.168.0.200\"\n",
    "UDP_PORT                          = 8000\n",
    "fs                                = 125e6#Sampling frequency\n",
    "             \n",
    "#Control paramters\n",
    "REF_Clk_parameter                 = 0x0000000A\n",
    "Trigger_stop_parameter            = int(500e-6*fs)#= 0x00001D4C#60us = 0x00003A98#120us #= 0x00007530#240us \n",
    "Trigger_start_parameter           = 0x00000006\n",
    "DINT_Fall_parameter               = int(220e-6*fs)#= 0x00001D4C#60us = 0x00003A98#120us= 0x00007530#240us\n",
    "DINT_Keep_parameter               = DINT_Fall_parameter-20#\n",
    "Window_start_parameter            = 0x00000028#22clks#0x00000001#0clks#0x00000038#57clks\n",
    "Window_stop_parameter             = Trigger_stop_parameter + Window_start_parameter -2#22clks\n",
    "Count_parameter                   = Window_stop_parameter*2 #+ 0x00000006 + 0x00001D4C#60us #0x00003ADF#120us\n",
    "BC_Interval_addr_paramter         = 0x00000400#0x00001000 corresponds addr 1 in bram excha\n",
    "CMPs_Delay_Para                   = 0x00000002\n",
    "\n",
    "single_type_INT                   = 0x00000001\n",
    "double_type_INT                   = 0x00000000\n",
    "\n",
    "Current_threshold                 = 10000#290mA\n",
    "MESSAGE = b'uDMA start!'"
   ]
  },
  {
   "cell_type": "code",
   "execution_count": 4,
   "metadata": {},
   "outputs": [
    {
     "name": "stdout",
     "output_type": "stream",
     "text": [
      "62500\n"
     ]
    }
   ],
   "source": [
    "print(Trigger_stop_parameter)"
   ]
  },
  {
   "cell_type": "code",
   "execution_count": 5,
   "metadata": {},
   "outputs": [
    {
     "name": "stderr",
     "output_type": "stream",
     "text": [
      "/usr/local/lib/python3.6/dist-packages/pynq/pl_server/device.py:594: UserWarning: Users will not get PARAMETERS / REGISTERS information through TCL files. HWH file is recommended.\n",
      "  warnings.warn(message, UserWarning)\n"
     ]
    }
   ],
   "source": [
    "bitstream = overlay.Overlay('system_wrapper.bit')\n",
    "bitstream.download()"
   ]
  },
  {
   "cell_type": "code",
   "execution_count": 6,
   "metadata": {},
   "outputs": [],
   "source": [
    "allo = xlnk.Xlnk()\n",
    "data = allo.cma_array([math.floor(Data_length*8/UDP_MAX),UDP_MAX],dtype=np.uint8)"
   ]
  },
  {
   "cell_type": "code",
   "execution_count": 380,
   "metadata": {},
   "outputs": [
    {
     "name": "stdout",
     "output_type": "stream",
     "text": [
      "UDP target IP: 192.168.0.200\n",
      "UDP target port 8000\n",
      "message: b'uDMA start!'\n"
     ]
    }
   ],
   "source": [
    "ctrl = Controller.Controller(TriBRAM_Control_Addr, CLK_Control_Addr, TDC_Control_Addr, DINT_Control_Addr, CMP_Delay_Addr)\n",
    "udma = uDMA.uDMA(UDMA_Control_Addr,data.physical_address)\n",
    "udma.set_memaddr(data.physical_address)\n",
    "udma.set_length(Data_length,8)\n",
    "ctrl.system_rst_on()\n",
    "# Settings for the trigger and windows signals and the initial values, the defaults are initialed in the \n",
    "ctrl.Set_Trigger(\n",
    "    Count_parameter,\n",
    "    Trigger_start_parameter,\n",
    "    Trigger_stop_parameter,\n",
    "    Window_start_parameter,\n",
    "    Window_stop_parameter,\n",
    "    DINT_Fall_parameter,\n",
    "    DINT_Keep_parameter\n",
    ")\n",
    "ctrl.Set_BM(BC_Interval_addr_paramter, Current_threshold)\n",
    "ctrl.system_rst_off()\n",
    "udma.reset_off()\n",
    "#If the locking period or reference clock changes, this paramter should be modified\n",
    "ctrl.Set_Delay(CMPs_Delay_Para)#defalut one is 2\n",
    "ctrl.Set_Offset(3000)#defalut value is 0x7D0\n",
    "print (\"UDP target IP:\", UDP_IP)\n",
    "print (\"UDP target port\", UDP_PORT)\n",
    "print (\"message:\", MESSAGE)\n",
    "sock = socket.socket(\n",
    "    socket.AF_INET,\n",
    "    socket.SOCK_DGRAM)"
   ]
  },
  {
   "cell_type": "code",
   "execution_count": 381,
   "metadata": {},
   "outputs": [],
   "source": [
    "ctrl.system_rst_on()\n",
    "ctrl.system_rst_off()"
   ]
  },
  {
   "cell_type": "code",
   "execution_count": 382,
   "metadata": {},
   "outputs": [],
   "source": [
    "ctrl.Set_Offset(3000)"
   ]
  },
  {
   "cell_type": "code",
   "execution_count": 383,
   "metadata": {},
   "outputs": [],
   "source": [
    "ctrl.Set_Ref(5)#Set the reference clock"
   ]
  },
  {
   "cell_type": "code",
   "execution_count": 501,
   "metadata": {},
   "outputs": [],
   "source": [
    "ctrl.Active_Control_on(6100)"
   ]
  },
  {
   "cell_type": "code",
   "execution_count": 494,
   "metadata": {},
   "outputs": [],
   "source": [
    "ctrl.Active_Control_off()#Default option"
   ]
  },
  {
   "cell_type": "code",
   "execution_count": 473,
   "metadata": {},
   "outputs": [],
   "source": [
    "ctrl.Set_INT_coe(400,100)#Set the INT coe for the feedback part"
   ]
  },
  {
   "cell_type": "code",
   "execution_count": 387,
   "metadata": {},
   "outputs": [],
   "source": [
    "ctrl.Iterating(single_type_INT)#Iteration mode, default is the single one"
   ]
  },
  {
   "cell_type": "code",
   "execution_count": 484,
   "metadata": {},
   "outputs": [],
   "source": [
    "ctrl.Iterating(double_type_INT)"
   ]
  },
  {
   "cell_type": "code",
   "execution_count": 502,
   "metadata": {},
   "outputs": [
    {
     "name": "stdout",
     "output_type": "stream",
     "text": [
      "15\n"
     ]
    }
   ],
   "source": [
    "# udma.start_off()\n",
    "udma.start_on()\n",
    "\n",
    "while(not udma.ifDone()):\n",
    "    pass\n",
    "udma.start_off()\n",
    "\n",
    "# print(udma.ifDone())\n",
    "\n",
    "data[0,7] = 0xAA\n",
    "data[(math.floor(Data_length*8/UDP_MAX)-1),7] = 0x55\n",
    "for i in range(math.floor(Data_length*8/UDP_MAX)):\n",
    "    sock.sendto(data[i,:],(UDP_IP,UDP_PORT))\n",
    "    time.sleep(0.07)\n",
    "print(i)"
   ]
  },
  {
   "cell_type": "code",
   "execution_count": 128,
   "metadata": {},
   "outputs": [
    {
     "name": "stdout",
     "output_type": "stream",
     "text": [
      "15\n"
     ]
    }
   ],
   "source": [
    "for i in range(math.floor(Data_length*8/UDP_MAX)):\n",
    "    sock.sendto(data[i,:],(UDP_IP,UDP_PORT))\n",
    "    time.sleep(0.07)\n",
    "print(i)"
   ]
  },
  {
   "cell_type": "code",
   "execution_count": 3305,
   "metadata": {},
   "outputs": [],
   "source": [
    "sock.close()"
   ]
  }
 ],
 "metadata": {
  "kernelspec": {
   "display_name": "Python 3",
   "language": "python",
   "name": "python3"
  },
  "language_info": {
   "codemirror_mode": {
    "name": "ipython",
    "version": 3
   },
   "file_extension": ".py",
   "mimetype": "text/x-python",
   "name": "python",
   "nbconvert_exporter": "python",
   "pygments_lexer": "ipython3",
   "version": "3.6.5"
  }
 },
 "nbformat": 4,
 "nbformat_minor": 2
}
